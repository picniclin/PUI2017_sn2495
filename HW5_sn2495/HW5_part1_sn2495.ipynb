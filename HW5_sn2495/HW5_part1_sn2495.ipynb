{
 "cells": [
  {
   "cell_type": "code",
   "execution_count": 1,
   "metadata": {
    "collapsed": true
   },
   "outputs": [],
   "source": [
    "import numpy as np\n",
    "import matplotlib as plt\n",
    "import pylab as pl\n",
    "import pandas as pd\n",
    "import scipy.stats\n",
    "\n",
    "\n",
    "%matplotlib inline"
   ]
  },
  {
   "cell_type": "markdown",
   "metadata": {},
   "source": [
    "Generate N samples from a distribution of your choice, but not a Gaussian with a chosen mean μ and standard deviation σ: N(μ, σ) and calculate the mean of each sample (all samples should have the same size n)."
   ]
  },
  {
   "cell_type": "markdown",
   "metadata": {},
   "source": [
    "Gaussian Distribution"
   ]
  },
  {
   "cell_type": "code",
   "execution_count": 2,
   "metadata": {
    "collapsed": false
   },
   "outputs": [
    {
     "data": {
      "text/plain": [
       "(array([  6.,   3.,   8.,  15.,  22.,  20.,  11.,   9.,   3.,   3.]),\n",
       " array([ 46.94630313,  50.62579366,  54.3052842 ,  57.98477473,\n",
       "         61.66426526,  65.34375579,  69.02324632,  72.70273686,\n",
       "         76.38222739,  80.06171792,  83.74120845]),\n",
       " <a list of 10 Patch objects>)"
      ]
     },
     "execution_count": 2,
     "metadata": {},
     "output_type": "execute_result"
    },
    {
     "data": {
      "image/png": "[encoded data removed]",
      "text/plain": [
       "<matplotlib.figure.Figure at 0x7fda4958b450>"
      ]
     },
     "metadata": {},
     "output_type": "display_data"
    }
   ],
   "source": [
    "# plot original distribution\n",
    "np.random.seed(10)\n",
    "dist = np.random.normal(64,8,100)\n",
    "\n",
    "pl.hist(dist)"
   ]
  },
  {
   "cell_type": "code",
   "execution_count": 3,
   "metadata": {
    "collapsed": false
   },
   "outputs": [],
   "source": [
    "# Generate N=100 samples from a Poisson Distribution, where each sample is size n=100\n",
    "np.random.seed(1)\n",
    "\n",
    "N = 100\n",
    "n = 100\n",
    "\n",
    "mean = 64\n",
    "\n",
    "# for poisson distribution std is sqrt(mean)\n",
    "std = np.sqrt(mean)\n",
    "\n",
    "samples = [np.random.poisson(mean, size= n) for i in range(N)]\n",
    "\n",
    "means = [np.mean(i) for i in samples]\n",
    "\n"
   ]
  },
  {
   "cell_type": "code",
   "execution_count": 4,
   "metadata": {
    "collapsed": false
   },
   "outputs": [
    {
     "data": {
      "text/plain": [
       "(array([  2.,   3.,  10.,  20.,  14.,  17.,  14.,  12.,   4.,   4.]),\n",
       " array([ 47. ,  50.3,  53.6,  56.9,  60.2,  63.5,  66.8,  70.1,  73.4,\n",
       "         76.7,  80. ]),\n",
       " <a list of 10 Patch objects>)"
      ]
     },
     "execution_count": 4,
     "metadata": {},
     "output_type": "execute_result"
    },
    {
     "data": {
      "image/png": "[encoded data removed]",
      "text/plain": [
       "<matplotlib.figure.Figure at 0x7fda47454f90>"
      ]
     },
     "metadata": {},
     "output_type": "display_data"
    }
   ],
   "source": [
    "# plot a sample\n",
    "pl.hist(samples[1])"
   ]
  },
  {
   "cell_type": "markdown",
   "metadata": {},
   "source": [
    "Assess the validity of the Z-test: If the samples are drawn from the distribution you are testing the z-values you calculate should follow a N(0,1) distribution (a Gaussian with mean 0 and standard deviation 1). Show that the distribution of z -statistics (find the formula in a statistics book or in last week’s slides) that you calculated (one for each sample) is indeed consistent with N(0,1)."
   ]
  },
  {
   "cell_type": "code",
   "execution_count": 5,
   "metadata": {
    "collapsed": false
   },
   "outputs": [
    {
     "data": {
      "text/plain": [
       "(array([  2.,   1.,  11.,  17.,  25.,  13.,  15.,  12.,   3.,   1.]),\n",
       " array([-2.675  , -2.12125, -1.5675 , -1.01375, -0.46   ,  0.09375,\n",
       "         0.6475 ,  1.20125,  1.755  ,  2.30875,  2.8625 ]),\n",
       " <a list of 10 Patch objects>)"
      ]
     },
     "execution_count": 5,
     "metadata": {},
     "output_type": "execute_result"
    },
    {
     "data": {
      "image/png": "[encoded data removed]",
      "text/plain": [
       "<matplotlib.figure.Figure at 0x7fda4743c350>"
      ]
     },
     "metadata": {},
     "output_type": "display_data"
    }
   ],
   "source": [
    "# calculate Z scores\n",
    "Z_scores = [(mean - i) / (std / np.sqrt(N)) for i in means]\n",
    "\n",
    "# Lets plot the Z score dist\n",
    "\n",
    "pl.hist(Z_scores)"
   ]
  },
  {
   "cell_type": "markdown",
   "metadata": {},
   "source": [
    "*** Fit the Z_scores to a Normal distribution***\n",
    "\n",
    "Null Hypothesis: The distribution Z_scores comes from a normal distribution. Significance = 0.05\n"
   ]
  },
  {
   "cell_type": "code",
   "execution_count": 12,
   "metadata": {
    "collapsed": false
   },
   "outputs": [
    {
     "data": {
      "text/plain": [
       "<matplotlib.legend.Legend at 0x7fda46eda4d0>"
      ]
     },
     "execution_count": 12,
     "metadata": {},
     "output_type": "execute_result"
    },
    {
     "data": {
      "image/png": "[encoded data removed]",
      "text/plain": [
       "<matplotlib.figure.Figure at 0x7fda46f59b50>"
      ]
     },
     "metadata": {},
     "output_type": "display_data"
    }
   ],
   "source": [
    "\n",
    "pl.hist(Z_scores, alpha = .5, color = 'blue', label = 'z score')\n",
    "pl.hist(np.random.normal(0,1,100), alpha = .5, color = 'red', label = 'normal')\n",
    "pl.title('Zscore fit to Normal distribution')\n",
    "pl.legend(loc = 'best')"
   ]
  },
  {
   "cell_type": "markdown",
   "metadata": {},
   "source": [
    "*** Assess Goodness of fit with KS and AD tests***"
   ]
  },
  {
   "cell_type": "code",
   "execution_count": 9,
   "metadata": {
    "collapsed": false
   },
   "outputs": [
    {
     "name": "stdout",
     "output_type": "stream",
     "text": [
      "z-scores compared to normal:  KstestResult(statistic=0.069213047147490325, pvalue=0.73345801432065927)\n",
      "z-scores compared to normal:  AndersonResult(statistic=0.3446322935297701, critical_values=array([ 0.555,  0.632,  0.759,  0.885,  1.053]), significance_level=array([ 15. ,  10. ,   5. ,   2.5,   1. ]))\n"
     ]
    }
   ],
   "source": [
    "print \"z-scores compared to normal: \", scipy.stats.kstest(Z_scores, 'norm')\n",
    "print \"z-scores compared to normal: \", scipy.stats.anderson(Z_scores, 'norm')\n"
   ]
  },
  {
   "cell_type": "markdown",
   "metadata": {},
   "source": [
    "*** Observations:\n",
    "Based on the KS test, we are unable to reject the null hypothesis because the p-value 0.73 is greater then selected p-value (0.05), implying that the z-score distribution comes from a Normal distribution ***\n",
    "\n",
    "***Based on the AD test, we are unable to reject the null hypothesis because the P-value of 0.759 is greater than the selected Pvalue 0.05 \n",
    "This implies that the z-score distribution comes from a Normal distribution. ***"
   ]
  }
 ],
 "metadata": {
  "kernelspec": {
   "display_name": "PUI2016_Python2",
   "language": "python",
   "name": "pui2016_python2"
  },
  "language_info": {
   "codemirror_mode": {
    "name": "ipython",
    "version": 2
   },
   "file_extension": ".py",
   "mimetype": "text/x-python",
   "name": "python",
   "nbconvert_exporter": "python",
   "pygments_lexer": "ipython2",
   "version": "2.7.12"
  }
 },
 "nbformat": 4,
 "nbformat_minor": 0
}
