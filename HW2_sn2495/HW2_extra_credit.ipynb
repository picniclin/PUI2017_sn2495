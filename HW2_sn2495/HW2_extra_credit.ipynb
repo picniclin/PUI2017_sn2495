{
 "cells": [
  {
   "cell_type": "code",
   "execution_count": 2,
   "metadata": {
    "collapsed": true
   },
   "outputs": [],
   "source": [
    "import numpy as np\n",
    "import matplotlib.pyplot as plt\n",
    "%matplotlib inline\n",
    "import pandas as pd\n",
    "import os\n",
    "from pandas import DataFrame, Series\n",
    "from datetime import datetime"
   ]
  },
  {
   "cell_type": "code",
   "execution_count": 3,
   "metadata": {
    "collapsed": false
   },
   "outputs": [
    {
     "name": "stdout",
     "output_type": "stream",
     "text": [
      "/gws/open/NYCOpenData/nycopendata/data\n"
     ]
    }
   ],
   "source": [
    "# verifying the env variable DFDATA\n",
    "DFdata = os.getenv('DFDATA')\n",
    "print(DFdata)"
   ]
  },
  {
   "cell_type": "code",
   "execution_count": 4,
   "metadata": {
    "collapsed": false
   },
   "outputs": [
    {
     "name": "stdout",
     "output_type": "stream",
     "text": [
      "/home/cusp/sn2495/PUIdata\n"
     ]
    }
   ],
   "source": [
    "#verifying the env variable PUIdata\n",
    "PUIdata = os.getenv('PUIDATA')\n",
    "\n",
    "print (PUIdata)"
   ]
  },
  {
   "cell_type": "code",
   "execution_count": 45,
   "metadata": {
    "collapsed": false
   },
   "outputs": [],
   "source": [
    "# Read the data into a dataframe\n",
    "\n",
    "df = pd.read_csv(DFdata + \"/de8q-estm/1439391972/de8q-estm\")"
   ]
  },
  {
   "cell_type": "code",
   "execution_count": 46,
   "metadata": {
    "collapsed": false
   },
   "outputs": [
    {
     "data": {
      "text/html": [
       "<div>\n",
       "<table border=\"1\" class=\"dataframe\">\n",
       "  <thead>\n",
       "    <tr style=\"text-align: right;\">\n",
       "      <th></th>\n",
       "      <th>event_name</th>\n",
       "      <th>event_description</th>\n",
       "      <th>event_url</th>\n",
       "      <th>local_start_time</th>\n",
       "      <th>local_end_time</th>\n",
       "      <th>capacity</th>\n",
       "      <th>status</th>\n",
       "      <th>category_name</th>\n",
       "      <th>subcategory_name</th>\n",
       "      <th>format_name</th>\n",
       "      <th>...</th>\n",
       "      <th>ticket_name</th>\n",
       "      <th>ticket_description</th>\n",
       "      <th>ticket_on_sale_status</th>\n",
       "      <th>ticket_quantity_total</th>\n",
       "      <th>ticket_quantity_sold</th>\n",
       "      <th>ticket_sales_start</th>\n",
       "      <th>ticket_sales_end</th>\n",
       "      <th>organizer_name</th>\n",
       "      <th>organizer_description</th>\n",
       "      <th>organizer_url</th>\n",
       "    </tr>\n",
       "  </thead>\n",
       "  <tbody>\n",
       "    <tr>\n",
       "      <th>0</th>\n",
       "      <td>Getting Ahead, Bronx 8/4, 8/11, 8/18,8/25, 09/1</td>\n",
       "      <td>Getting Ahead on Your Personal Finances \\nLear...</td>\n",
       "      <td>http://www.eventbrite.com/e/getting-ahead-bron...</td>\n",
       "      <td>08/04/2015 06:00:00 PM</td>\n",
       "      <td>09/01/2015 08:00:00 PM</td>\n",
       "      <td>20</td>\n",
       "      <td>started</td>\n",
       "      <td>Business &amp; Professional</td>\n",
       "      <td>NaN</td>\n",
       "      <td>Class, Training, or Workshop</td>\n",
       "      <td>...</td>\n",
       "      <td>Register</td>\n",
       "      <td>NaN</td>\n",
       "      <td>UNAVAILABLE</td>\n",
       "      <td>20</td>\n",
       "      <td>17</td>\n",
       "      <td>06/17/2015 08:00:00 PM +0000</td>\n",
       "      <td>08/04/2015 10:00:00 PM +0000</td>\n",
       "      <td>NYC Department of Small Business Services</td>\n",
       "      <td>The NYC Department of Small Business Services ...</td>\n",
       "      <td>http://www.eventbrite.com/o/nyc-department-of-...</td>\n",
       "    </tr>\n",
       "    <tr>\n",
       "      <th>1</th>\n",
       "      <td>Mastering Marketing (3-session course), Bronx ...</td>\n",
       "      <td>Mastering Marketing \\nLearn how to get the bes...</td>\n",
       "      <td>http://www.eventbrite.com/e/mastering-marketin...</td>\n",
       "      <td>08/11/2015 05:30:00 PM</td>\n",
       "      <td>08/13/2015 08:00:00 PM</td>\n",
       "      <td>25</td>\n",
       "      <td>started</td>\n",
       "      <td>Business &amp; Professional</td>\n",
       "      <td>NaN</td>\n",
       "      <td>Class, Training, or Workshop</td>\n",
       "      <td>...</td>\n",
       "      <td>Register</td>\n",
       "      <td>Registration is free.</td>\n",
       "      <td>UNAVAILABLE</td>\n",
       "      <td>25</td>\n",
       "      <td>10</td>\n",
       "      <td>06/17/2015 08:00:00 PM +0000</td>\n",
       "      <td>08/11/2015 10:00:00 PM +0000</td>\n",
       "      <td>NYC Department of Small Business Services</td>\n",
       "      <td>The NYC Department of Small Business Services ...</td>\n",
       "      <td>http://www.eventbrite.com/o/nyc-department-of-...</td>\n",
       "    </tr>\n",
       "    <tr>\n",
       "      <th>2</th>\n",
       "      <td>QuickBooks Quick Review, Lower Manhattan 8/12/15</td>\n",
       "      <td>QuickBooks Quick Review \\nGet a quick refreshe...</td>\n",
       "      <td>http://www.eventbrite.com/e/quickbooks-quick-r...</td>\n",
       "      <td>08/12/2015 01:00:00 PM</td>\n",
       "      <td>08/12/2015 05:00:00 PM</td>\n",
       "      <td>25</td>\n",
       "      <td>live</td>\n",
       "      <td>Business &amp; Professional</td>\n",
       "      <td>NaN</td>\n",
       "      <td>Class, Training, or Workshop</td>\n",
       "      <td>...</td>\n",
       "      <td>Register</td>\n",
       "      <td>NaN</td>\n",
       "      <td>SOLD_OUT</td>\n",
       "      <td>25</td>\n",
       "      <td>24</td>\n",
       "      <td>12/05/2013 09:00:00 PM +0000</td>\n",
       "      <td>08/13/2015 05:00:00 PM +0000</td>\n",
       "      <td>NYC Department of Small Business Services</td>\n",
       "      <td>The NYC Department of Small Business Services ...</td>\n",
       "      <td>http://www.eventbrite.com/o/nyc-department-of-...</td>\n",
       "    </tr>\n",
       "    <tr>\n",
       "      <th>3</th>\n",
       "      <td>Accessing Financing Webinar, Lower Manhattan 8...</td>\n",
       "      <td>Accessing Financing Webinar \\nNYC Business Sol...</td>\n",
       "      <td>http://www.eventbrite.com/e/accessing-financin...</td>\n",
       "      <td>08/12/2015 01:00:00 PM</td>\n",
       "      <td>08/12/2015 02:30:00 PM</td>\n",
       "      <td>120</td>\n",
       "      <td>live</td>\n",
       "      <td>Business &amp; Professional</td>\n",
       "      <td>NaN</td>\n",
       "      <td>Class, Training, or Workshop</td>\n",
       "      <td>...</td>\n",
       "      <td>Register</td>\n",
       "      <td>Registration is free.</td>\n",
       "      <td>UNAVAILABLE</td>\n",
       "      <td>120</td>\n",
       "      <td>41</td>\n",
       "      <td>12/05/2013 09:00:00 PM +0000</td>\n",
       "      <td>08/11/2015 07:30:00 PM +0000</td>\n",
       "      <td>NYC Department of Small Business Services</td>\n",
       "      <td>The NYC Department of Small Business Services ...</td>\n",
       "      <td>http://www.eventbrite.com/o/nyc-department-of-...</td>\n",
       "    </tr>\n",
       "    <tr>\n",
       "      <th>4</th>\n",
       "      <td>QuickBooks Quick Review, Upper Manhattan 8/12/15</td>\n",
       "      <td>QuickBooks Quick Review \\nGet a quick refreshe...</td>\n",
       "      <td>http://www.eventbrite.com/e/quickbooks-quick-r...</td>\n",
       "      <td>08/12/2015 04:00:00 PM</td>\n",
       "      <td>08/12/2015 08:00:00 PM</td>\n",
       "      <td>20</td>\n",
       "      <td>live</td>\n",
       "      <td>Business &amp; Professional</td>\n",
       "      <td>NaN</td>\n",
       "      <td>Class, Training, or Workshop</td>\n",
       "      <td>...</td>\n",
       "      <td>Register</td>\n",
       "      <td>Registration is free.</td>\n",
       "      <td>SOLD_OUT</td>\n",
       "      <td>20</td>\n",
       "      <td>18</td>\n",
       "      <td>03/20/2015 08:00:00 PM +0000</td>\n",
       "      <td>08/12/2015 11:00:00 PM +0000</td>\n",
       "      <td>NYC Department of Small Business Services</td>\n",
       "      <td>The NYC Department of Small Business Services ...</td>\n",
       "      <td>http://www.eventbrite.com/o/nyc-department-of-...</td>\n",
       "    </tr>\n",
       "  </tbody>\n",
       "</table>\n",
       "<p>5 rows × 27 columns</p>\n",
       "</div>"
      ],
      "text/plain": [
       "                                          event_name  \\\n",
       "0    Getting Ahead, Bronx 8/4, 8/11, 8/18,8/25, 09/1   \n",
       "1  Mastering Marketing (3-session course), Bronx ...   \n",
       "2   QuickBooks Quick Review, Lower Manhattan 8/12/15   \n",
       "3  Accessing Financing Webinar, Lower Manhattan 8...   \n",
       "4   QuickBooks Quick Review, Upper Manhattan 8/12/15   \n",
       "\n",
       "                                   event_description  \\\n",
       "0  Getting Ahead on Your Personal Finances \\nLear...   \n",
       "1  Mastering Marketing \\nLearn how to get the bes...   \n",
       "2  QuickBooks Quick Review \\nGet a quick refreshe...   \n",
       "3  Accessing Financing Webinar \\nNYC Business Sol...   \n",
       "4  QuickBooks Quick Review \\nGet a quick refreshe...   \n",
       "\n",
       "                                           event_url        local_start_time  \\\n",
       "0  http://www.eventbrite.com/e/getting-ahead-bron...  08/04/2015 06:00:00 PM   \n",
       "1  http://www.eventbrite.com/e/mastering-marketin...  08/11/2015 05:30:00 PM   \n",
       "2  http://www.eventbrite.com/e/quickbooks-quick-r...  08/12/2015 01:00:00 PM   \n",
       "3  http://www.eventbrite.com/e/accessing-financin...  08/12/2015 01:00:00 PM   \n",
       "4  http://www.eventbrite.com/e/quickbooks-quick-r...  08/12/2015 04:00:00 PM   \n",
       "\n",
       "           local_end_time  capacity   status            category_name  \\\n",
       "0  09/01/2015 08:00:00 PM        20  started  Business & Professional   \n",
       "1  08/13/2015 08:00:00 PM        25  started  Business & Professional   \n",
       "2  08/12/2015 05:00:00 PM        25     live  Business & Professional   \n",
       "3  08/12/2015 02:30:00 PM       120     live  Business & Professional   \n",
       "4  08/12/2015 08:00:00 PM        20     live  Business & Professional   \n",
       "\n",
       "  subcategory_name                   format_name  \\\n",
       "0              NaN  Class, Training, or Workshop   \n",
       "1              NaN  Class, Training, or Workshop   \n",
       "2              NaN  Class, Training, or Workshop   \n",
       "3              NaN  Class, Training, or Workshop   \n",
       "4              NaN  Class, Training, or Workshop   \n",
       "\n",
       "                         ...                         ticket_name  \\\n",
       "0                        ...                            Register   \n",
       "1                        ...                            Register   \n",
       "2                        ...                            Register   \n",
       "3                        ...                            Register   \n",
       "4                        ...                            Register   \n",
       "\n",
       "       ticket_description ticket_on_sale_status ticket_quantity_total  \\\n",
       "0                     NaN           UNAVAILABLE                    20   \n",
       "1  Registration is free.            UNAVAILABLE                    25   \n",
       "2                     NaN              SOLD_OUT                    25   \n",
       "3  Registration is free.            UNAVAILABLE                   120   \n",
       "4  Registration is free.               SOLD_OUT                    20   \n",
       "\n",
       "   ticket_quantity_sold            ticket_sales_start  \\\n",
       "0                    17  06/17/2015 08:00:00 PM +0000   \n",
       "1                    10  06/17/2015 08:00:00 PM +0000   \n",
       "2                    24  12/05/2013 09:00:00 PM +0000   \n",
       "3                    41  12/05/2013 09:00:00 PM +0000   \n",
       "4                    18  03/20/2015 08:00:00 PM +0000   \n",
       "\n",
       "               ticket_sales_end                             organizer_name  \\\n",
       "0  08/04/2015 10:00:00 PM +0000  NYC Department of Small Business Services   \n",
       "1  08/11/2015 10:00:00 PM +0000  NYC Department of Small Business Services   \n",
       "2  08/13/2015 05:00:00 PM +0000  NYC Department of Small Business Services   \n",
       "3  08/11/2015 07:30:00 PM +0000  NYC Department of Small Business Services   \n",
       "4  08/12/2015 11:00:00 PM +0000  NYC Department of Small Business Services   \n",
       "\n",
       "                               organizer_description  \\\n",
       "0  The NYC Department of Small Business Services ...   \n",
       "1  The NYC Department of Small Business Services ...   \n",
       "2  The NYC Department of Small Business Services ...   \n",
       "3  The NYC Department of Small Business Services ...   \n",
       "4  The NYC Department of Small Business Services ...   \n",
       "\n",
       "                                       organizer_url  \n",
       "0  http://www.eventbrite.com/o/nyc-department-of-...  \n",
       "1  http://www.eventbrite.com/o/nyc-department-of-...  \n",
       "2  http://www.eventbrite.com/o/nyc-department-of-...  \n",
       "3  http://www.eventbrite.com/o/nyc-department-of-...  \n",
       "4  http://www.eventbrite.com/o/nyc-department-of-...  \n",
       "\n",
       "[5 rows x 27 columns]"
      ]
     },
     "execution_count": 46,
     "metadata": {},
     "output_type": "execute_result"
    }
   ],
   "source": [
    "#show the first few rows of the dataframe\n",
    "df.head()"
   ]
  },
  {
   "cell_type": "code",
   "execution_count": 47,
   "metadata": {
    "collapsed": false
   },
   "outputs": [
    {
     "data": {
      "text/plain": [
       "array(['event_name', 'event_description', 'event_url', 'local_start_time',\n",
       "       'local_end_time', 'capacity', 'status', 'category_name',\n",
       "       'subcategory_name', 'format_name', 'address_1', 'address_2', 'city',\n",
       "       'region', 'postal_code', 'country', 'venue_name', 'ticket_name',\n",
       "       'ticket_description', 'ticket_on_sale_status',\n",
       "       'ticket_quantity_total', 'ticket_quantity_sold',\n",
       "       'ticket_sales_start', 'ticket_sales_end', 'organizer_name',\n",
       "       'organizer_description', 'organizer_url'], dtype=object)"
      ]
     },
     "execution_count": 47,
     "metadata": {},
     "output_type": "execute_result"
    }
   ],
   "source": [
    "df.columns.values"
   ]
  },
  {
   "cell_type": "code",
   "execution_count": 48,
   "metadata": {
    "collapsed": false
   },
   "outputs": [],
   "source": [
    "# drop the 'NYC Consumption(Million gallons per day)' column from the dataframe\n",
    "df.drop(['event_name', 'event_description', 'event_url',\n",
    "       'local_end_time','status', 'category_name',\n",
    "       'subcategory_name', 'format_name', 'address_1', 'address_2', 'city',\n",
    "       'region', 'postal_code', 'country', 'venue_name', 'ticket_name',\n",
    "       'ticket_description', 'ticket_on_sale_status',\n",
    "       'ticket_quantity_total', 'ticket_quantity_sold',\n",
    "       'ticket_sales_start', 'ticket_sales_end', 'organizer_name',\n",
    "       'organizer_description', 'organizer_url'], axis=1, inplace=True)"
   ]
  },
  {
   "cell_type": "code",
   "execution_count": 49,
   "metadata": {
    "collapsed": false
   },
   "outputs": [
    {
     "data": {
      "text/html": [
       "<div>\n",
       "<table border=\"1\" class=\"dataframe\">\n",
       "  <thead>\n",
       "    <tr style=\"text-align: right;\">\n",
       "      <th></th>\n",
       "      <th>local_start_time</th>\n",
       "      <th>capacity</th>\n",
       "    </tr>\n",
       "  </thead>\n",
       "  <tbody>\n",
       "    <tr>\n",
       "      <th>0</th>\n",
       "      <td>08/04/2015 06:00:00 PM</td>\n",
       "      <td>20</td>\n",
       "    </tr>\n",
       "    <tr>\n",
       "      <th>1</th>\n",
       "      <td>08/11/2015 05:30:00 PM</td>\n",
       "      <td>25</td>\n",
       "    </tr>\n",
       "    <tr>\n",
       "      <th>2</th>\n",
       "      <td>08/12/2015 01:00:00 PM</td>\n",
       "      <td>25</td>\n",
       "    </tr>\n",
       "    <tr>\n",
       "      <th>3</th>\n",
       "      <td>08/12/2015 01:00:00 PM</td>\n",
       "      <td>120</td>\n",
       "    </tr>\n",
       "    <tr>\n",
       "      <th>4</th>\n",
       "      <td>08/12/2015 04:00:00 PM</td>\n",
       "      <td>20</td>\n",
       "    </tr>\n",
       "  </tbody>\n",
       "</table>\n",
       "</div>"
      ],
      "text/plain": [
       "         local_start_time  capacity\n",
       "0  08/04/2015 06:00:00 PM        20\n",
       "1  08/11/2015 05:30:00 PM        25\n",
       "2  08/12/2015 01:00:00 PM        25\n",
       "3  08/12/2015 01:00:00 PM       120\n",
       "4  08/12/2015 04:00:00 PM        20"
      ]
     },
     "execution_count": 49,
     "metadata": {},
     "output_type": "execute_result"
    }
   ],
   "source": [
    "df.head()"
   ]
  },
  {
   "cell_type": "code",
   "execution_count": 50,
   "metadata": {
    "collapsed": false,
    "scrolled": true
   },
   "outputs": [
    {
     "data": {
      "text/plain": [
       "0   2015-08-04 18:00:00\n",
       "1   2015-08-11 17:30:00\n",
       "2   2015-08-12 13:00:00\n",
       "3   2015-08-12 13:00:00\n",
       "4   2015-08-12 16:00:00\n",
       "Name: local_start_time, dtype: datetime64[ns]"
      ]
     },
     "execution_count": 50,
     "metadata": {},
     "output_type": "execute_result"
    }
   ],
   "source": [
    "pd.to_datetime(df['local_start_time']).head()"
   ]
  },
  {
   "cell_type": "code",
   "execution_count": 51,
   "metadata": {
    "collapsed": false
   },
   "outputs": [
    {
     "data": {
      "text/html": [
       "<div>\n",
       "<table border=\"1\" class=\"dataframe\">\n",
       "  <thead>\n",
       "    <tr style=\"text-align: right;\">\n",
       "      <th></th>\n",
       "      <th>local_start_time</th>\n",
       "      <th>capacity</th>\n",
       "    </tr>\n",
       "  </thead>\n",
       "  <tbody>\n",
       "    <tr>\n",
       "      <th>0</th>\n",
       "      <td>2015-08-04 18:00:00</td>\n",
       "      <td>20</td>\n",
       "    </tr>\n",
       "    <tr>\n",
       "      <th>1</th>\n",
       "      <td>2015-08-11 17:30:00</td>\n",
       "      <td>25</td>\n",
       "    </tr>\n",
       "    <tr>\n",
       "      <th>2</th>\n",
       "      <td>2015-08-12 13:00:00</td>\n",
       "      <td>25</td>\n",
       "    </tr>\n",
       "    <tr>\n",
       "      <th>3</th>\n",
       "      <td>2015-08-12 13:00:00</td>\n",
       "      <td>120</td>\n",
       "    </tr>\n",
       "    <tr>\n",
       "      <th>4</th>\n",
       "      <td>2015-08-12 16:00:00</td>\n",
       "      <td>20</td>\n",
       "    </tr>\n",
       "  </tbody>\n",
       "</table>\n",
       "</div>"
      ],
      "text/plain": [
       "     local_start_time  capacity\n",
       "0 2015-08-04 18:00:00        20\n",
       "1 2015-08-11 17:30:00        25\n",
       "2 2015-08-12 13:00:00        25\n",
       "3 2015-08-12 13:00:00       120\n",
       "4 2015-08-12 16:00:00        20"
      ]
     },
     "execution_count": 51,
     "metadata": {},
     "output_type": "execute_result"
    }
   ],
   "source": [
    "df['local_start_time'] = pd.to_datetime(df['local_start_time'])\n",
    "\n",
    "df.head()"
   ]
  },
  {
   "cell_type": "code",
   "execution_count": 78,
   "metadata": {
    "collapsed": false
   },
   "outputs": [
    {
     "data": {
      "text/plain": [
       "<matplotlib.text.Text at 0x7f565d21f390>"
      ]
     },
     "execution_count": 78,
     "metadata": {},
     "output_type": "execute_result"
    },
    {
     "data": {
      "image/png": "[encoded data removed]",
      "text/plain": [
       "<matplotlib.figure.Figure at 0x7f565d62bcd0>"
      ]
     },
     "metadata": {},
     "output_type": "display_data"
    }
   ],
   "source": [
    "#scatter plot\n",
    "df.plot(x='local_start_time', y='capacity', style='.', figsize=(15,8))\n",
    "plt.xlabel(\"start date\")\n",
    "plt.ylabel(\"capacity\")\n",
    "plt.title(\"capacity vs start date\")\n"
   ]
  },
  {
   "cell_type": "code",
   "execution_count": null,
   "metadata": {
    "collapsed": true
   },
   "outputs": [],
   "source": []
  }
 ],
 "metadata": {
  "kernelspec": {
   "display_name": "PUI2016_Python2",
   "language": "python",
   "name": "pui2016_python2"
  },
  "language_info": {
   "codemirror_mode": {
    "name": "ipython",
    "version": 2
   },
   "file_extension": ".py",
   "mimetype": "text/x-python",
   "name": "python",
   "nbconvert_exporter": "python",
   "pygments_lexer": "ipython2",
   "version": "2.7.12"
  }
 },
 "nbformat": 4,
 "nbformat_minor": 0
}
